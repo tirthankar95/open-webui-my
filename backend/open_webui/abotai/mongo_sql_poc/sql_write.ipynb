{
 "cells": [
  {
   "cell_type": "code",
   "execution_count": 1,
   "id": "b39c7959",
   "metadata": {},
   "outputs": [
    {
     "name": "stderr",
     "output_type": "stream",
     "text": [
      "/tmp/ipykernel_538199/3726354000.py:12: MovedIn20Warning: The ``declarative_base()`` function is now available as sqlalchemy.orm.declarative_base(). (deprecated since: 2.0) (Background on SQLAlchemy 2.0 at: https://sqlalche.me/e/b8d9)\n",
      "  Base = declarative_base()\n"
     ]
    }
   ],
   "source": [
    "from pydantic import BaseModel\n",
    "from sqlalchemy import (\n",
    "    Column, \n",
    "    String,\n",
    "    create_engine, \n",
    "    text \n",
    ")\n",
    "from sqlalchemy.ext.declarative import declarative_base\n",
    "from sqlalchemy.orm import sessionmaker\n",
    "from pathlib import Path\n",
    "import os \n",
    "Base = declarative_base()"
   ]
  },
  {
   "cell_type": "code",
   "execution_count": 2,
   "id": "b401ded0",
   "metadata": {},
   "outputs": [],
   "source": [
    "class Name(Base):\n",
    "    __tablename__ = \"name\"\n",
    "    name = Column(String, primary_key = True)"
   ]
  },
  {
   "cell_type": "code",
   "execution_count": 3,
   "id": "3130262b",
   "metadata": {},
   "outputs": [],
   "source": [
    "class NameModel(BaseModel):\n",
    "    name: str"
   ]
  },
  {
   "cell_type": "code",
   "execution_count": 4,
   "id": "484e750c",
   "metadata": {},
   "outputs": [],
   "source": [
    "data = {\"name\": \"Mittra\"}\n",
    "named_object = NameModel(**data)"
   ]
  },
  {
   "cell_type": "code",
   "execution_count": 5,
   "id": "1f8bd5dc",
   "metadata": {},
   "outputs": [
    {
     "data": {
      "text/plain": [
       "<__main__.Name at 0x7f3453fc3ce0>"
      ]
     },
     "execution_count": 5,
     "metadata": {},
     "output_type": "execute_result"
    }
   ],
   "source": [
    "Name(**named_object.model_dump())"
   ]
  },
  {
   "cell_type": "code",
   "execution_count": 6,
   "id": "ef82b7ab",
   "metadata": {},
   "outputs": [],
   "source": [
    "DATA = Path.cwd().parent.parent / \"data\"\n",
    "DATABASE_URL = os.environ.get(\"DATABASE_URL\", f\"sqlite:///{DATA}/webui.db\")\n",
    "engine = create_engine(DATABASE_URL)\n",
    "conn = engine.connect()\n",
    "\n",
    "SessionLocal = sessionmaker(bind = conn)\n",
    "session = SessionLocal()"
   ]
  },
  {
   "cell_type": "code",
   "execution_count": 7,
   "id": "7dc620df",
   "metadata": {},
   "outputs": [
    {
     "data": {
      "text/plain": [
       "'sqlite:////home/tirthankar-mittra/open-webui-my/backend/open_webui/data/webui.db'"
      ]
     },
     "execution_count": 7,
     "metadata": {},
     "output_type": "execute_result"
    }
   ],
   "source": [
    "DATABASE_URL"
   ]
  },
  {
   "cell_type": "code",
   "execution_count": 8,
   "id": "6f114630",
   "metadata": {},
   "outputs": [
    {
     "data": {
      "text/plain": [
       "[('8a1d5ff3-58a3-46b9-8d31-3741f632b306', '36f04a37-4192-4cfc-a6b4-cfd195f1c1ed', 'Storm Duration in Jupyter', None, 0, 1746280325, 1746280420, '{\"id\": \"\", \"title\": \"Storm Duration in Jupyter\", \"models\": [\"qwen2.5-7b-instruct-q4_0.gguf\"], \"params\": {}, \"history\": {\"messages\": {\"326d2146-1dca-4 ... (12932 characters truncated) ...  \"usage\": {\"completion_tokens\": 142, \"prompt_tokens\": 712, \"total_tokens\": 854}, \"done\": true}], \"tags\": [], \"timestamp\": 1746280326271, \"files\": []}', 0, '{\"tags\": [\"technology\", \"computational_efficiency\", \"jupyter_notebook\"]}', None)]"
      ]
     },
     "execution_count": 8,
     "metadata": {},
     "output_type": "execute_result"
    }
   ],
   "source": [
    "result = conn.execute(text(\"SELECT * FROM chat LIMIT 1;\"))\n",
    "list(result)"
   ]
  },
  {
   "cell_type": "code",
   "execution_count": 9,
   "id": "341a6ec6",
   "metadata": {},
   "outputs": [
    {
     "data": {
      "text/plain": [
       "[('migratehistory',),\n",
       " ('chatidtag',),\n",
       " ('auth',),\n",
       " ('chat',),\n",
       " ('document',),\n",
       " ('prompt',),\n",
       " ('user',),\n",
       " ('memory',),\n",
       " ('model',),\n",
       " ('tool',),\n",
       " ('function',),\n",
       " ('alembic_version',),\n",
       " ('config',),\n",
       " ('knowledge',),\n",
       " ('tag',),\n",
       " ('file',),\n",
       " ('feedback',),\n",
       " ('folder',),\n",
       " ('group',),\n",
       " ('channel',),\n",
       " ('message',),\n",
       " ('message_reaction',),\n",
       " ('channel_member',)]"
      ]
     },
     "execution_count": 9,
     "metadata": {},
     "output_type": "execute_result"
    }
   ],
   "source": [
    "result = conn.execute(text(\n",
    "    \"SELECT name FROM sqlite_master WHERE type='table';\"\n",
    "))\n",
    "list(result)"
   ]
  },
  {
   "cell_type": "code",
   "execution_count": 15,
   "id": "544b5107",
   "metadata": {},
   "outputs": [],
   "source": [
    "result = conn.execute(text(\"PRAGMA table_info(chat);\")).fetchall()\n",
    "# list(result) "
   ]
  },
  {
   "cell_type": "code",
   "execution_count": null,
   "id": "09816498",
   "metadata": {},
   "outputs": [
    {
     "name": "stdout",
     "output_type": "stream",
     "text": [
      "0 id VARCHAR(255) 1 None 0\n",
      "1 user_id VARCHAR(255) 1 None 0\n",
      "2 title TEXT 1 None 0\n",
      "3 share_id VARCHAR(255) 0 None 0\n",
      "4 archived INTEGER 1 None 0\n",
      "5 created_at DATETIME 1 None 0\n",
      "6 updated_at DATETIME 1 None 0\n",
      "7 chat JSON 0 None 0\n",
      "8 pinned BOOLEAN 0 None 0\n",
      "9 meta JSON 1 '{}' 0\n",
      "10 folder_id TEXT 0 None 0\n"
     ]
    }
   ],
   "source": [
    "'\\n'.join([' '.join([str(e) for e in row]) for row in result])"
   ]
  }
 ],
 "metadata": {
  "kernelspec": {
   "display_name": "base",
   "language": "python",
   "name": "python3"
  },
  "language_info": {
   "codemirror_mode": {
    "name": "ipython",
    "version": 3
   },
   "file_extension": ".py",
   "mimetype": "text/x-python",
   "name": "python",
   "nbconvert_exporter": "python",
   "pygments_lexer": "ipython3",
   "version": "3.12.9"
  }
 },
 "nbformat": 4,
 "nbformat_minor": 5
}
